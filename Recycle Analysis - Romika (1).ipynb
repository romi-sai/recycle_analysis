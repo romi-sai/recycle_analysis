{
 "cells": [
  {
   "cell_type": "markdown",
   "metadata": {},
   "source": [
    "#                                        RECYCLE ANALYSIS"
   ]
  },
  {
   "cell_type": "markdown",
   "metadata": {},
   "source": [
    "### Import Statements"
   ]
  },
  {
   "cell_type": "code",
   "execution_count": 1,
   "metadata": {},
   "outputs": [],
   "source": [
    "from selenium import webdriver\n",
    "from selenium.webdriver.common.keys import Keys\n",
    "from selenium.webdriver.chrome.service import Service\n",
    "from selenium.webdriver.common.by import By\n",
    "import time\n"
   ]
  },
  {
   "cell_type": "markdown",
   "metadata": {},
   "source": [
    "### Webdriver "
   ]
  },
  {
   "cell_type": "code",
   "execution_count": 2,
   "metadata": {},
   "outputs": [],
   "source": [
    "s = Service(\"/Users/romi_sai/Downloads/driver/chromedriver\")\n",
    "driver = webdriver.Chrome(service=s)\n",
    "\n",
    "driver.get(\"https://kidfriendlythingstodo.com/water-bottle-flowers-craft-for-kids\")\n",
    "directory = \"Website1\"\n"
   ]
  },
  {
   "cell_type": "markdown",
   "metadata": {},
   "source": [
    "### Extracting Title"
   ]
  },
  {
   "cell_type": "code",
   "execution_count": 3,
   "metadata": {},
   "outputs": [
    {
     "name": "stdout",
     "output_type": "stream",
     "text": [
      "Recycled Water Bottle Craft - So cute! {with Video} | Kid Friendly Things To Do\n"
     ]
    }
   ],
   "source": [
    "title = driver.title\n",
    "print(driver.title)\n",
    "\n"
   ]
  },
  {
   "cell_type": "markdown",
   "metadata": {},
   "source": [
    "### Extracting Materials Needed "
   ]
  },
  {
   "cell_type": "code",
   "execution_count": 4,
   "metadata": {},
   "outputs": [
    {
     "name": "stdout",
     "output_type": "stream",
     "text": [
      "['Water bottles', 'Scissors', 'Fabric Paint or Washable Kid’s Paint (Like Crayola)', 'paintbrushes – I like to use the sponge brushes', 'Yellow pom-poms – about 1/2 inch wide', 'low-temperature glue gun with glue sticks or fabri-tac glue', 'green straws – try to find the ones with flexible ones', 'green construction paper']\n"
     ]
    }
   ],
   "source": [
    "materials = driver.find_element(By.XPATH, '//*[@id=\"post-20116\"]/div[2]/ul[2]').get_attribute('innerText')\n",
    "#print('Materials')\n",
    "mater=[]\n",
    "mats = materials.split('\\n')\n",
    "for elem in mats:\n",
    "    mater.append(elem)\n",
    "    #print(\"* \"  + str(elem))\n",
    "\n",
    "print(mater)\n"
   ]
  },
  {
   "cell_type": "markdown",
   "metadata": {},
   "source": [
    "### Extracting All Instructions"
   ]
  },
  {
   "cell_type": "code",
   "execution_count": 5,
   "metadata": {},
   "outputs": [
    {
     "name": "stdout",
     "output_type": "stream",
     "text": [
      "['1. Cut the ends off of the water bottles and dry them completely', '2. Paint the inside of the bottle ends and let dry', '3. Cut some little leaf shapes out of the green paper', '4. Cut some little leaf shapes out of the green paper', '5. Cut some little leaf shapes out of the green paper']\n"
     ]
    }
   ],
   "source": [
    "instructions = driver.find_element(By.XPATH, '//*[@id=\"post-20116\"]/div[2]/ul[3]').get_attribute('innerText')\n",
    "#print('Instructions')\n",
    "num=0\n",
    "instrs=[]\n",
    "instr = instructions.split('\\n')\n",
    "for i in instr:\n",
    "    num+=1\n",
    "    instrs.append(str(num) + \". \" + str(i))\n",
    "    #print(str(num) + \". \" + str(i))\n",
    "\n",
    "instructions1 = driver.find_element(By.XPATH, '//*[@id=\"post-20116\"]/div[2]/ul[4]').get_attribute('innerText')\n",
    "instr1 = instructions1.split('\\n')\n",
    "for j in instr1: \n",
    "    num+=1\n",
    "    instrs.append(str(num) + \". \" + str(i))\n",
    "    #print(str(num) + '. ' + str(j))\n",
    "\n",
    "print(instrs)"
   ]
  },
  {
   "cell_type": "markdown",
   "metadata": {},
   "source": [
    "### Retrieving Images"
   ]
  },
  {
   "cell_type": "markdown",
   "metadata": {},
   "source": [
    "#### Extracting Image Links"
   ]
  },
  {
   "cell_type": "code",
   "execution_count": 6,
   "metadata": {},
   "outputs": [
    {
     "name": "stdout",
     "output_type": "stream",
     "text": [
      "['https://kidfriendlythingstodo.com/wp-content/uploads/2016/04/flower-craft-fb-1.jpg', 'https://kidfriendlythingstodo.com/wp-content/uploads/2016/04/water-bottle-flowers-2.jpg', 'https://kidfriendlythingstodo.com/wp-content/uploads/2016/04/water-bottle-collage.jpg', 'https://kidfriendlythingstodo.com/wp-content/uploads/2016/04/DSC_0045-water-bottle-flower.jpg', 'https://kidfriendlythingstodo.com/wp-content/uploads/2016/04/water-bottle-flowers-1.jpg', 'https://kidfriendlythingstodo.com/wp-content/uploads/2016/04/water-bottle-flowers.jpg']\n"
     ]
    }
   ],
   "source": [
    "# First Image\n",
    "img=[]\n",
    "img1 = driver.find_element(By.XPATH, '//*[@id=\"post-20116\"]/div[1]/img').get_attribute('data-lazy-src')\n",
    "#print(img1)\n",
    "img.append(str(img1))\n",
    "\n",
    "# Second Image\n",
    "img2 = driver.find_element(By.XPATH, '//*[@id=\"post-20116\"]/div[2]/p[2]/a/img').get_attribute('data-lazy-src')\n",
    "#print(img2)\n",
    "img.append(str(img2))    \n",
    "\n",
    "# Third Image\n",
    "img3 = driver.find_element(By.XPATH, '//*[@id=\"post-20116\"]/div[2]/p[7]/img').get_attribute('data-lazy-src')\n",
    "#print(img3)\n",
    "img.append(str(img3))\n",
    "\n",
    "# Fourth Image\n",
    "img4 = driver.find_element(By.XPATH, '//*[@id=\"post-20116\"]/div[2]/p[8]/a/img').get_attribute('data-lazy-src')\n",
    "#print(img4)\n",
    "img.append(str(img4))\n",
    "\n",
    "# Fifth Image\n",
    "img5 = driver.find_element(By.XPATH, '//*[@id=\"post-20116\"]/div[2]/p[9]/a/img').get_attribute('data-lazy-src')\n",
    "#print(img5)\n",
    "img.append(str(img5))\n",
    "\n",
    "# Sixth Image\n",
    "img6 = driver.find_element(By.XPATH, '//*[@id=\"post-20116\"]/div[2]/p[10]/img').get_attribute('data-lazy-src')\n",
    "#print(img6)\n",
    "img.append(str(img6))\n",
    "\n",
    "print(img)"
   ]
  },
  {
   "cell_type": "markdown",
   "metadata": {},
   "source": [
    "### Downloading images from links"
   ]
  },
  {
   "cell_type": "code",
   "execution_count": 7,
   "metadata": {},
   "outputs": [],
   "source": [
    "import urllib.request\n",
    "import os\n",
    "  \n",
    "directory = \"Website1\"\n",
    "parent_dir = \"/Users/romi_sai/Desktop/College/BS/Senior/S2022/Research\"\n",
    "\n",
    "path = os.path.join(parent_dir, directory)\n",
    "os.mkdir(path)\n",
    "\n",
    "file_names=[]\n",
    "for i in range(0,len(img)-1): \n",
    "    file_names.append(\"image\" + str(i) + \".jpg\")\n",
    "\n",
    "\n",
    "for j in range(0,len(img)-1):\n",
    "    url = img[j]\n",
    "\n",
    "    r = urllib.request.urlopen(url)\n",
    "    with open(file_names[j], \"wb\") as f:\n",
    "        f.write(r.read())"
   ]
  },
  {
   "cell_type": "markdown",
   "metadata": {},
   "source": [
    "import os.path\n",
    "import urllib.request\n",
    "import os\n",
    "\n",
    "save_path = '/Users/romi_sai/Desktop/College/BS/Senior/S2022/Research'\n",
    "\n",
    "  \n",
    "# Path\n",
    "path = os.path.join(save_path, directory)\n",
    "\n",
    "#name_of_file = raw_input(\"What is the name of the file: \")\n",
    "file_names=[]\n",
    "for i in range(0,len(img)-1): \n",
    "    file_names.append(\"image\" + str(i) + \".jpg\")\n",
    "\n",
    "for i in range(0,len(file_names)-1):\n",
    "\n",
    "    completeName = os.path.join(path, str(file_names[i]))    \n",
    "    print(completeName)\n",
    "    \n",
    "   \n",
    "   \n",
    "    "
   ]
  },
  {
   "cell_type": "markdown",
   "metadata": {},
   "source": [
    "### Writing into a JSON file"
   ]
  },
  {
   "cell_type": "code",
   "execution_count": 8,
   "metadata": {},
   "outputs": [],
   "source": [
    "import json\n",
    "  \n",
    "# Data to be written\n",
    "dictionary ={\n",
    "    \"Title\" : title,\n",
    "    \"Materials\" : mater,\n",
    "    \"Instructions\" : instrs\n",
    "}\n",
    "  \n",
    "# Serializing json \n",
    "json_object = json.dumps(dictionary, indent = 4)\n",
    "\n",
    "\n",
    "# Writing to sample.json\n",
    "with open(\"output.json\", \"w\") as outfile:\n",
    "    outfile.write(json_object)"
   ]
  },
  {
   "cell_type": "markdown",
   "metadata": {},
   "source": [
    "### Website put to sleep after 5 seconds"
   ]
  },
  {
   "cell_type": "code",
   "execution_count": 9,
   "metadata": {},
   "outputs": [],
   "source": [
    "time.sleep(5)\n",
    "driver.quit() ## Quits the browser itself. "
   ]
  }
 ],
 "metadata": {
  "kernelspec": {
   "display_name": "Python 3",
   "language": "python",
   "name": "python3"
  },
  "language_info": {
   "codemirror_mode": {
    "name": "ipython",
    "version": 3
   },
   "file_extension": ".py",
   "mimetype": "text/x-python",
   "name": "python",
   "nbconvert_exporter": "python",
   "pygments_lexer": "ipython3",
   "version": "3.7.4"
  }
 },
 "nbformat": 4,
 "nbformat_minor": 2
}
