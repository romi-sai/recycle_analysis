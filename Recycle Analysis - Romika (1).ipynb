{
 "cells": [
  {
   "cell_type": "markdown",
   "metadata": {},
   "source": [
    "#                                        RECYCLE ANALYSIS"
   ]
  },
  {
   "cell_type": "markdown",
   "metadata": {},
   "source": [
    "### Import Statements"
   ]
  },
  {
   "cell_type": "code",
   "execution_count": 1,
   "metadata": {},
   "outputs": [],
   "source": [
    "from selenium import webdriver\n",
    "from selenium.webdriver.common.keys import Keys\n",
    "from selenium.webdriver.chrome.service import Service\n",
    "from selenium.webdriver.common.by import By\n",
    "import time\n"
   ]
  },
  {
   "cell_type": "markdown",
   "metadata": {},
   "source": [
    "### Webdriver "
   ]
  },
  {
   "cell_type": "code",
   "execution_count": 2,
   "metadata": {},
   "outputs": [],
   "source": [
    "s = Service(\"/Users/romi_sai/Downloads/driver/chromedriver\")\n",
    "driver = webdriver.Chrome(service=s)\n",
    "\n",
    "driver.get(\"https://kidfriendlythingstodo.com/water-bottle-flowers-craft-for-kids\")\n"
   ]
  },
  {
   "cell_type": "markdown",
   "metadata": {},
   "source": [
    "### Extracting Title"
   ]
  },
  {
   "cell_type": "code",
   "execution_count": 3,
   "metadata": {},
   "outputs": [
    {
     "name": "stdout",
     "output_type": "stream",
     "text": [
      "Recycled Water Bottle Craft - So cute! {with Video} | Kid Friendly Things To Do\n"
     ]
    }
   ],
   "source": [
    "print(driver.title)\n",
    "\n"
   ]
  },
  {
   "cell_type": "markdown",
   "metadata": {},
   "source": [
    "### Extracting Materials Needed "
   ]
  },
  {
   "cell_type": "code",
   "execution_count": 4,
   "metadata": {},
   "outputs": [
    {
     "name": "stdout",
     "output_type": "stream",
     "text": [
      "Materials\n",
      "* Water bottles\n",
      "* Scissors\n",
      "* Fabric Paint or Washable Kid’s Paint (Like Crayola)\n",
      "* paintbrushes – I like to use the sponge brushes\n",
      "* Yellow pom-poms – about 1/2 inch wide\n",
      "* low-temperature glue gun with glue sticks or fabri-tac glue\n",
      "* green straws – try to find the ones with flexible ones\n",
      "* green construction paper\n"
     ]
    }
   ],
   "source": [
    "materials = driver.find_element(By.XPATH, '//*[@id=\"post-20116\"]/div[2]/ul[2]').get_attribute('innerText')\n",
    "print('Materials')\n",
    "mats = materials.split('\\n')\n",
    "for elem in mats:\n",
    "    print(\"* \"  + str(elem))\n"
   ]
  },
  {
   "cell_type": "markdown",
   "metadata": {},
   "source": [
    "### Extracting All Instructions"
   ]
  },
  {
   "cell_type": "code",
   "execution_count": 5,
   "metadata": {},
   "outputs": [
    {
     "name": "stdout",
     "output_type": "stream",
     "text": [
      "Instructions\n",
      "1. Cut the ends off of the water bottles and dry them completely\n",
      "2. Paint the inside of the bottle ends and let dry\n",
      "3. Cut some little leaf shapes out of the green paper\n",
      "4. Trim your straws to the desired length and glue to the back of the bottle end – I put a dot of glue at the bump (technical term) 🙂\n",
      "5. Turn the bottle end around and use glue to add the yellow pom-pom to the indention (middle) of the bottle bottom and leaves to the straws\n"
     ]
    }
   ],
   "source": [
    "instructions = driver.find_element(By.XPATH, '//*[@id=\"post-20116\"]/div[2]/ul[3]').get_attribute('innerText')\n",
    "print('Instructions')\n",
    "num=0\n",
    "instr = instructions.split('\\n')\n",
    "for i in instr:\n",
    "    num+=1\n",
    "    print(str(num) + \". \" + str(i))\n",
    "\n",
    "instructions1 = driver.find_element(By.XPATH, '//*[@id=\"post-20116\"]/div[2]/ul[4]').get_attribute('innerText')\n",
    "instr1 = instructions1.split('\\n')\n",
    "for j in instr1: \n",
    "    num+=1\n",
    "    print(str(num) + '. ' + str(j))"
   ]
  },
  {
   "cell_type": "markdown",
   "metadata": {},
   "source": [
    "### Extracting Images"
   ]
  },
  {
   "cell_type": "code",
   "execution_count": 6,
   "metadata": {},
   "outputs": [
    {
     "name": "stdout",
     "output_type": "stream",
     "text": [
      "https://kidfriendlythingstodo.com/wp-content/uploads/2016/04/flower-craft-fb-1.jpg\n",
      "https://kidfriendlythingstodo.com/wp-content/uploads/2016/04/water-bottle-flowers-2.jpg\n",
      "https://kidfriendlythingstodo.com/wp-content/uploads/2016/04/water-bottle-collage.jpg\n",
      "https://kidfriendlythingstodo.com/wp-content/uploads/2016/04/DSC_0045-water-bottle-flower.jpg\n",
      "https://kidfriendlythingstodo.com/wp-content/uploads/2016/04/water-bottle-flowers-1.jpg\n",
      "https://kidfriendlythingstodo.com/wp-content/uploads/2016/04/water-bottle-flowers.jpg\n"
     ]
    }
   ],
   "source": [
    "# First Image\n",
    "img1 = driver.find_element(By.XPATH, '//*[@id=\"post-20116\"]/div[1]/img').get_attribute('data-lazy-src')\n",
    "print(img1)\n",
    "\n",
    "# Second Image\n",
    "img2 = driver.find_element(By.XPATH, '//*[@id=\"post-20116\"]/div[2]/p[2]/a/img').get_attribute('data-lazy-src')\n",
    "print(img2)\n",
    "    \n",
    "# Third Image\n",
    "img3 = driver.find_element(By.XPATH, '//*[@id=\"post-20116\"]/div[2]/p[7]/img').get_attribute('data-lazy-src')\n",
    "print(img3)\n",
    "\n",
    "# Fourth Image\n",
    "img4 = driver.find_element(By.XPATH, '//*[@id=\"post-20116\"]/div[2]/p[8]/a/img').get_attribute('data-lazy-src')\n",
    "print(img4)\n",
    "\n",
    "# Fifth Image\n",
    "img5 = driver.find_element(By.XPATH, '//*[@id=\"post-20116\"]/div[2]/p[9]/a/img').get_attribute('data-lazy-src')\n",
    "print(img5)\n",
    "\n",
    "# Sixth Image\n",
    "img6 = driver.find_element(By.XPATH, '//*[@id=\"post-20116\"]/div[2]/p[10]/img').get_attribute('data-lazy-src')\n",
    "print(img6)"
   ]
  },
  {
   "cell_type": "markdown",
   "metadata": {},
   "source": [
    "### Website put to sleep after 5 seconds"
   ]
  },
  {
   "cell_type": "code",
   "execution_count": 7,
   "metadata": {},
   "outputs": [],
   "source": [
    "time.sleep(5)\n",
    "driver.quit() ## Quits the browser itself. "
   ]
  }
 ],
 "metadata": {
  "kernelspec": {
   "display_name": "Python 3",
   "language": "python",
   "name": "python3"
  },
  "language_info": {
   "codemirror_mode": {
    "name": "ipython",
    "version": 3
   },
   "file_extension": ".py",
   "mimetype": "text/x-python",
   "name": "python",
   "nbconvert_exporter": "python",
   "pygments_lexer": "ipython3",
   "version": "3.7.4"
  }
 },
 "nbformat": 4,
 "nbformat_minor": 2
}
